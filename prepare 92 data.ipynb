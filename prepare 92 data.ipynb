{
 "cells": [
  {
   "cell_type": "code",
   "execution_count": 1,
   "metadata": {
    "scrolled": true
   },
   "outputs": [
    {
     "name": "stderr",
     "output_type": "stream",
     "text": [
      "/home/work516/anaconda3/lib/python3.7/site-packages/IPython/core/interactiveshell.py:3063: DtypeWarning: Columns (10) have mixed types.Specify dtype option on import or set low_memory=False.\n",
      "  interactivity=interactivity, compiler=compiler, result=result)\n"
     ]
    },
    {
     "name": "stdout",
     "output_type": "stream",
     "text": [
      "/mnt/e/result/logs_20200109_zs_92_01_day_data\n",
      "{750}\n",
      "/mnt/e/result/logs_20200109_zs_92_01_day_data\n",
      "{750}\n",
      "/mnt/e/result/logs_20200110_zs_92_01_day_data\n",
      "{750}\n",
      "/mnt/e/result/logs_20200110_zs_92_01_day_data\n",
      "{750}\n",
      "/mnt/e/result/logs_20200113_zs_92_01_day_data\n",
      "{750}\n",
      "/mnt/e/result/logs_20200113_zs_92_01_day_data\n",
      "{750}\n",
      "/mnt/e/result/logs_20200116_zs_92_01_day_data\n",
      "{2266}\n",
      "/mnt/e/result/logs_20200116_zs_92_01_day_data\n",
      "{2266}\n"
     ]
    },
    {
     "name": "stderr",
     "output_type": "stream",
     "text": [
      "/home/work516/anaconda3/lib/python3.7/site-packages/IPython/core/interactiveshell.py:3063: DtypeWarning: Columns (9) have mixed types.Specify dtype option on import or set low_memory=False.\n",
      "  interactivity=interactivity, compiler=compiler, result=result)\n",
      "/home/work516/anaconda3/lib/python3.7/site-packages/IPython/core/interactiveshell.py:3063: DtypeWarning: Columns (12) have mixed types.Specify dtype option on import or set low_memory=False.\n",
      "  interactivity=interactivity, compiler=compiler, result=result)\n",
      "/home/work516/anaconda3/lib/python3.7/site-packages/IPython/core/interactiveshell.py:3063: DtypeWarning: Columns (11) have mixed types.Specify dtype option on import or set low_memory=False.\n",
      "  interactivity=interactivity, compiler=compiler, result=result)\n"
     ]
    },
    {
     "name": "stdout",
     "output_type": "stream",
     "text": [
      "/mnt/e/result/logs_20200413_zs_92_01_day_data\n",
      "{300197}\n",
      "/mnt/e/result/logs_20200413_zs_92_01_day_data\n",
      "{300197}\n",
      "/mnt/e/result/logs_20200414_zs_92_01_day_data\n",
      "{300197}\n",
      "/mnt/e/result/logs_20200414_zs_92_01_day_data\n",
      "{300197}\n",
      "/mnt/e/result/logs_20200415_zs_92_01_day_data\n",
      "{300197}\n",
      "/mnt/e/result/logs_20200415_zs_92_01_day_data\n",
      "{300197}\n",
      "/mnt/e/result/logs_20200416_zs_92_01_day_data\n",
      "{300197}\n",
      "/mnt/e/result/logs_20200416_zs_92_01_day_data\n",
      "{300197}\n",
      "/mnt/e/result/logs_20200417_zs_92_01_day_data\n",
      "{300197}\n",
      "/mnt/e/result/logs_20200417_zs_92_01_day_data\n",
      "{300197}\n",
      "/mnt/e/result/logs_20200428_zs_92_01_day_data\n",
      "{732}\n",
      "/mnt/e/result/logs_20200428_zs_92_01_day_data\n",
      "{732}\n",
      "/mnt/e/result/logs_20200429_zs_92_01_day_data\n",
      "{2426, 732}\n",
      "/mnt/e/result/logs_20200429_zs_92_01_day_data\n",
      "{2426, 732}\n",
      "/mnt/e/result/logs_20200430_zs_92_01_day_data\n",
      "{732}\n",
      "/mnt/e/result/logs_20200430_zs_92_01_day_data\n",
      "{732}\n",
      "/mnt/e/result/logs_20200506_zs_92_01_day_data\n",
      "{732}\n",
      "/mnt/e/result/logs_20200506_zs_92_01_day_data\n",
      "{732}\n",
      "/mnt/e/result/logs_20200507_zs_92_01_day_data\n",
      "{732}\n",
      "/mnt/e/result/logs_20200507_zs_92_01_day_data\n",
      "{732}\n",
      "/mnt/e/result/logs_20200508_zs_92_01_day_data\n",
      "{732}\n",
      "/mnt/e/result/logs_20200508_zs_92_01_day_data\n",
      "{732}\n",
      "/mnt/e/result/logs_20200511_zs_92_01_day_data\n",
      "{732}\n",
      "/mnt/e/result/logs_20200511_zs_92_01_day_data\n",
      "{732}\n",
      "/mnt/e/result/logs_20200512_zs_92_01_day_data\n",
      "{732}\n",
      "/mnt/e/result/logs_20200512_zs_92_01_day_data\n",
      "{732}\n",
      "/mnt/e/result/logs_20200513_zs_92_01_day_data\n",
      "{732}\n",
      "/mnt/e/result/logs_20200513_zs_92_01_day_data\n",
      "{732}\n"
     ]
    }
   ],
   "source": [
    "import pandas as pd\n",
    "import random\n",
    "import numpy as np\n",
    "import glob\n",
    "import pickle\n",
    "import os\n",
    "import datetime\n",
    "import time\n",
    "\n",
    "sl = pd.read_csv('/home/work516/KR_upload_code/stock_list.csv')\n",
    "li_st = (sl['secid'] - 2000000).values\n",
    "pd.set_option('max_rows', 200)\n",
    "startDate = '20200102'\n",
    "endDate = '20200529'\n",
    "readPath = '/mnt/e/result/logs_***_zs_***'\n",
    "dataPathLs = np.array(glob.glob(readPath))\n",
    "dateLs = np.array([os.path.basename(i).split('_')[1] for i in dataPathLs])\n",
    "dataPathLs = dataPathLs[(dateLs >= startDate) & (dateLs <= endDate)]\n",
    "for i in dataPathLs[5:]:\n",
    "    orderp = i + '/mdOrderLog***'\n",
    "    path1 = np.array(glob.glob(orderp))\n",
    "    order = pd.read_csv(path1[0])\n",
    "    order = order[order['SecurityID'].isin(li_st)]\n",
    "    try:\n",
    "        assert(order['SecurityID'].nunique() == 100)\n",
    "    except:\n",
    "        print(i)\n",
    "        print(set(li_st) - set(order['SecurityID'].unique()))\n",
    "    order = order[['clockAtArrival', 'sequenceNo', 'TransactTime', 'ApplSeqNum', 'SecurityID', 'Side', 'OrderType', 'Price', 'OrderQty']]\n",
    "    tradep = i + '/mdTradeLog***'\n",
    "    path1 = np.array(glob.glob(tradep))\n",
    "    trade = pd.read_csv(path1[0])\n",
    "    trade = trade[trade['SecurityID'].isin(li_st)]\n",
    "    try:\n",
    "        assert(trade['SecurityID'].nunique() == 100)\n",
    "    except:\n",
    "        print(i)\n",
    "        print(set(li_st) - set(trade['SecurityID'].unique()))\n",
    "    trade = trade[['clockAtArrival', 'sequenceNo', 'TransactTime', 'ApplSeqNum', 'SecurityID', 'ExecType', 'TradePrice', 'TradeQty', 'BidApplSeqNum', 'OfferApplSeqNum']]\n",
    "    os.mkdir('/mnt/e/92/' + os.path.basename(i).split('_')[1])\n",
    "    order = order.reset_index(drop=True)\n",
    "    trade = trade.reset_index(drop=True)\n",
    "    order = order.rename(columns={\"SecurityID\": 'skey'})\n",
    "    order['skey'] = order['skey'] + 2000000\n",
    "    trade = trade.rename(columns={\"SecurityID\": 'skey'})\n",
    "    trade['skey'] = trade['skey'] + 2000000\n",
    "    order.to_pickle('/mnt/e/92/' + os.path.basename(i).split('_')[1] + '/order.pkl')\n",
    "    trade.to_pickle('/mnt/e/92/' + os.path.basename(i).split('_')[1] + '/trade.pkl')"
   ]
  },
  {
   "cell_type": "code",
   "execution_count": 1,
   "metadata": {
    "scrolled": true
   },
   "outputs": [
    {
     "name": "stderr",
     "output_type": "stream",
     "text": [
      "/home/work516/anaconda3/lib/python3.7/site-packages/IPython/core/interactiveshell.py:3063: DtypeWarning: Columns (12) have mixed types.Specify dtype option on import or set low_memory=False.\n",
      "  interactivity=interactivity, compiler=compiler, result=result)\n",
      "/home/work516/anaconda3/lib/python3.7/site-packages/IPython/core/interactiveshell.py:3063: DtypeWarning: Columns (11) have mixed types.Specify dtype option on import or set low_memory=False.\n",
      "  interactivity=interactivity, compiler=compiler, result=result)\n"
     ]
    },
    {
     "name": "stdout",
     "output_type": "stream",
     "text": [
      "/mnt/Kevin_zhenyu/rawData/logs_20200619_zs_92_01_day_data\n",
      "{2500}\n",
      "/mnt/Kevin_zhenyu/rawData/logs_20200619_zs_92_01_day_data\n",
      "{2500}\n",
      "/mnt/Kevin_zhenyu/rawData/logs_20200618_zs_92_01_day_data\n",
      "{2500}\n",
      "/mnt/Kevin_zhenyu/rawData/logs_20200618_zs_92_01_day_data\n",
      "{2500}\n",
      "/mnt/Kevin_zhenyu/rawData/logs_20200623_zs_92_01_day_data\n",
      "{980, 2500}\n",
      "/mnt/Kevin_zhenyu/rawData/logs_20200623_zs_92_01_day_data\n",
      "{980, 2500}\n",
      "/mnt/Kevin_zhenyu/rawData/logs_20200622_zs_92_01_day_data\n",
      "{2500}\n",
      "/mnt/Kevin_zhenyu/rawData/logs_20200622_zs_92_01_day_data\n",
      "{2500}\n"
     ]
    }
   ],
   "source": [
    "import pandas as pd\n",
    "import random\n",
    "import numpy as np\n",
    "import glob\n",
    "import pickle\n",
    "import os\n",
    "import datetime\n",
    "import time\n",
    "\n",
    "sl = pd.read_csv('/home/work516/KR_upload_code/stock_list.csv')\n",
    "li_st = (sl['secid'] - 2000000).values\n",
    "pd.set_option('max_rows', 200)\n",
    "startDate = '20200601'\n",
    "endDate = '20200630'\n",
    "readPath = '/mnt/Kevin_zhenyu/rawData/logs_***_zs_***'\n",
    "dataPathLs = np.array(glob.glob(readPath))\n",
    "dateLs = np.array([os.path.basename(i).split('_')[1] for i in dataPathLs])\n",
    "dataPathLs = dataPathLs[(dateLs >= startDate) & (dateLs <= endDate)]\n",
    "for i in dataPathLs[8:]:\n",
    "    orderp = i + '/mdOrderLog***'\n",
    "    path1 = np.array(glob.glob(orderp))\n",
    "    order = pd.read_csv(path1[0])\n",
    "    order = order[order['SecurityID'].isin(li_st)]\n",
    "    try:\n",
    "        assert(order['SecurityID'].nunique() == 100)\n",
    "    except:\n",
    "        print(i)\n",
    "        print(set(li_st) - set(order['SecurityID'].unique()))\n",
    "    order = order[['clockAtArrival', 'sequenceNo', 'TransactTime', 'ApplSeqNum', 'SecurityID', 'Side', 'OrderType', 'Price', 'OrderQty']]\n",
    "    tradep = i + '/mdTradeLog***'\n",
    "    path1 = np.array(glob.glob(tradep))\n",
    "    trade = pd.read_csv(path1[0])\n",
    "    trade = trade[trade['SecurityID'].isin(li_st)]\n",
    "    try:\n",
    "        assert(trade['SecurityID'].nunique() == 100)\n",
    "    except:\n",
    "        print(i)\n",
    "        print(set(li_st) - set(trade['SecurityID'].unique()))\n",
    "    trade = trade[['clockAtArrival', 'sequenceNo', 'TransactTime', 'ApplSeqNum', 'SecurityID', 'ExecType', 'TradePrice', 'TradeQty', 'BidApplSeqNum', 'OfferApplSeqNum']]\n",
    "    os.mkdir('/mnt/e/92/' + os.path.basename(i).split('_')[1])\n",
    "    order = order.reset_index(drop=True)\n",
    "    trade = trade.reset_index(drop=True)\n",
    "    order = order.rename(columns={\"SecurityID\": 'skey'})\n",
    "    order['skey'] = order['skey'] + 2000000\n",
    "    trade = trade.rename(columns={\"SecurityID\": 'skey'})\n",
    "    trade['skey'] = trade['skey'] + 2000000\n",
    "    order.to_pickle('/mnt/e/92/' + os.path.basename(i).split('_')[1] + '/order.pkl')\n",
    "    trade.to_pickle('/mnt/e/92/' + os.path.basename(i).split('_')[1] + '/trade.pkl')"
   ]
  },
  {
   "cell_type": "code",
   "execution_count": 2,
   "metadata": {},
   "outputs": [
    {
     "data": {
      "text/plain": [
       "array(['/mnt/Kevin_zhenyu/rawData/logs_20200608_zs_92_01_day_data',\n",
       "       '/mnt/Kevin_zhenyu/rawData/logs_20200615_zs_92_01_day_data',\n",
       "       '/mnt/Kevin_zhenyu/rawData/logs_20200617_zs_92_01_day_data',\n",
       "       '/mnt/Kevin_zhenyu/rawData/logs_20200601_zs_92_01_day_data',\n",
       "       '/mnt/Kevin_zhenyu/rawData/logs_20200630_zs_92_01_day_data',\n",
       "       '/mnt/Kevin_zhenyu/rawData/logs_20200624_zs_92_01_day_data',\n",
       "       '/mnt/Kevin_zhenyu/rawData/logs_20200604_zs_92_01_day_data',\n",
       "       '/mnt/Kevin_zhenyu/rawData/logs_20200609_zs_92_01_day_data',\n",
       "       '/mnt/Kevin_zhenyu/rawData/logs_20200612_zs_92_01_day_data',\n",
       "       '/mnt/Kevin_zhenyu/rawData/logs_20200611_zs_92_01_day_data',\n",
       "       '/mnt/Kevin_zhenyu/rawData/logs_20200619_zs_92_01_day_data',\n",
       "       '/mnt/Kevin_zhenyu/rawData/logs_20200602_zs_92_01_day_data',\n",
       "       '/mnt/Kevin_zhenyu/rawData/logs_20200629_zs_92_01_day_data',\n",
       "       '/mnt/Kevin_zhenyu/rawData/logs_20200605_zs_92_01_day_data',\n",
       "       '/mnt/Kevin_zhenyu/rawData/logs_20200618_zs_92_01_day_data',\n",
       "       '/mnt/Kevin_zhenyu/rawData/logs_20200623_zs_92_01_day_data',\n",
       "       '/mnt/Kevin_zhenyu/rawData/logs_20200622_zs_92_01_day_data',\n",
       "       '/mnt/Kevin_zhenyu/rawData/logs_20200616_zs_92_01_day_data',\n",
       "       '/mnt/Kevin_zhenyu/rawData/logs_20200603_zs_92_01_day_data',\n",
       "       '/mnt/Kevin_zhenyu/rawData/logs_20200610_zs_92_01_day_data'],\n",
       "      dtype='<U57')"
      ]
     },
     "execution_count": 2,
     "metadata": {},
     "output_type": "execute_result"
    }
   ],
   "source": [
    "dataPathLs"
   ]
  }
 ],
 "metadata": {
  "kernelspec": {
   "display_name": "Python 3",
   "language": "python",
   "name": "python3"
  },
  "language_info": {
   "codemirror_mode": {
    "name": "ipython",
    "version": 3
   },
   "file_extension": ".py",
   "mimetype": "text/x-python",
   "name": "python",
   "nbconvert_exporter": "python",
   "pygments_lexer": "ipython3",
   "version": "3.7.6"
  }
 },
 "nbformat": 4,
 "nbformat_minor": 4
}
