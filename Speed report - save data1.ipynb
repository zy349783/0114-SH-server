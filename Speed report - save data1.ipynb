{
 "cells": [
  {
   "cell_type": "code",
   "execution_count": 1,
   "metadata": {
    "scrolled": true
   },
   "outputs": [
    {
     "name": "stderr",
     "output_type": "stream",
     "text": [
      "/home/work516/anaconda3/lib/python3.7/site-packages/IPython/core/interactiveshell.py:3063: DtypeWarning: Columns (55,63) have mixed types.Specify dtype option on import or set low_memory=False.\n",
      "  interactivity=interactivity, compiler=compiler, result=result)\n",
      "/home/work516/anaconda3/lib/python3.7/site-packages/IPython/core/interactiveshell.py:3063: DtypeWarning: Columns (12) have mixed types.Specify dtype option on import or set low_memory=False.\n",
      "  interactivity=interactivity, compiler=compiler, result=result)\n"
     ]
    },
    {
     "name": "stdout",
     "output_type": "stream",
     "text": [
      "0:17:16.300211\n"
     ]
    }
   ],
   "source": [
    "import os\n",
    "import glob\n",
    "import datetime\n",
    "import numpy as np\n",
    "import pandas as pd\n",
    "import matplotlib.pyplot as plt\n",
    "%matplotlib inline\n",
    "\n",
    "pd.set_option('max_rows', 100)\n",
    "pd.set_option('max_columns', 100)\n",
    "\n",
    "perc = [0.01, 0.05, 0.1, 0.25, 0.5, 0.75, 0.9, 0.95, 0.99]\n",
    "\n",
    "startTm = datetime.datetime.now()\n",
    "\n",
    "startDate = '20201211'\n",
    "endDate = '20201211'\n",
    "\n",
    "readPath = '/mnt/equityTradeLogs'\n",
    "dataPathLs = np.array(glob.glob(os.path.join(readPath, 'speedCompare***.csv')))\n",
    "dateLs = np.array([os.path.basename(i).split('_')[1].split('.')[0] for i in dataPathLs])\n",
    "dataPathLs = dataPathLs[(dateLs >= startDate) & (dateLs <= endDate)]\n",
    "dateLs = dateLs[(dateLs >= startDate) & (dateLs <= endDate)]\n",
    "\n",
    "for date in dateLs:\n",
    "        \n",
    "    readPath = '/mnt/equityTradeLogs'\n",
    "    orderLog = pd.read_csv(os.path.join(readPath, 'speedCompare_%s.csv'%date))\n",
    "\n",
    "    for col in ['clockAtArrival', 'secid', 'updateType', 'vai', 'absFilledThisUpdate', 'orderDirection', 'absOrderSize',\n",
    "                'absOrderSizeCumFilled', 'date', 'accCode', 'mse']:\n",
    "        orderLog[col] = orderLog[col].fillna(0)\n",
    "        orderLog[col] = orderLog[col].astype('int64')\n",
    "\n",
    "    orderLog = orderLog.sort_values(by=['date', 'secid', 'vai', 'accCode', 'clockAtArrival']).reset_index(drop=True)\n",
    "    orderLog = orderLog[orderLog[\"secid\"] >= 1000000]\n",
    "\n",
    "    targetStock = orderLog['secid'].unique()\n",
    "    targetStock = np.array([int(str(i)[1:]) for i in targetStock])\n",
    "    targetStockSZ = sorted(targetStock[targetStock < 600000])\n",
    "    targetStockSH = sorted(targetStock[targetStock >= 600000])\n",
    "        \n",
    "    readPath = '/mnt/Kevin_zhenyu/rawData'\n",
    "    mdOrderLogPath = glob.glob(os.path.join(readPath, 'logs_%s_zs_92_01***'%date, 'mdOrderLog***.csv'))[-1]\n",
    "    mdTradeLogPath = glob.glob(os.path.join(readPath, 'logs_%s_zs_92_01***'%date, 'mdTradeLog***.csv'))[-1]\n",
    "    \n",
    "    mdOrderLog = pd.read_csv(mdOrderLogPath)\n",
    "    mdOrderLog = mdOrderLog[mdOrderLog['SecurityID'].isin(targetStockSZ)]\n",
    "    mdOrderLog['OrderType'] = mdOrderLog['OrderType'].astype(str)\n",
    "    mdOrderLog = mdOrderLog[['clockAtArrival', 'sequenceNo', 'TransactTime', 'SecurityID', 'ApplSeqNum', 'Side',\n",
    "                             'OrderType', 'Price', 'OrderQty']]\n",
    "    \n",
    "    mdTradeLog = pd.read_csv(mdTradeLogPath, encoding='utf-8')\n",
    "    mdTradeLog['ExecType'] = mdTradeLog['ExecType'].astype(str)\n",
    "    mdTradeLog = mdTradeLog[mdTradeLog['SecurityID'].isin(targetStockSZ)]\n",
    "    mdTradeLog['volumeThisUpdate'] = np.where(mdTradeLog['ExecType'] == 'F', mdTradeLog['TradeQty'], 0)\n",
    "    mdTradeLog['cum_volume'] = mdTradeLog.groupby(['SecurityID'])['volumeThisUpdate'].cumsum()\n",
    "    mdTradeLog = mdTradeLog[['clockAtArrival', 'sequenceNo', 'TransactTime', 'SecurityID', 'ApplSeqNum', 'cum_volume',\n",
    "                             'ExecType', 'TradePrice', 'TradeQty', 'TradeMoney', 'BidApplSeqNum', 'OfferApplSeqNum']]\n",
    "\n",
    "    mdMsgData = pd.concat([mdOrderLog, mdTradeLog], sort=False)\n",
    "    del mdOrderLog\n",
    "    del mdTradeLog\n",
    "    \n",
    "    mdMsgData = mdMsgData.sort_values(by=['sequenceNo']).reset_index(drop=True)\n",
    "    \n",
    "    mdMsgData[\"agg_trade\"] = np.where((mdMsgData[\"ApplSeqNum\"] == mdMsgData[\"BidApplSeqNum\"] + 1) & (mdMsgData[\"ExecType\"] == \"F\"), 1, np.where(\n",
    "    (mdMsgData[\"ApplSeqNum\"] == mdMsgData[\"OfferApplSeqNum\"] + 1) & (mdMsgData[\"ExecType\"] == \"F\"), 1, 0))\n",
    "    mdMsgData[\"agg\"] = mdMsgData.groupby([\"SecurityID\"])[\"agg_trade\"].shift(-1)\n",
    "    mdMsgData[\"orderNum\"] = np.where(mdMsgData[\"ExecType\"].isnull(), 1, 0)\n",
    "    mdMsgData[\"cumorderNum\"] = mdMsgData.groupby(\"SecurityID\")[\"orderNum\"].cumsum()\n",
    "    mdMsgData[\"cumorderNum2\"] = np.nan\n",
    "    mdMsgData.loc[mdMsgData[\"agg\"]==1, \"cumorderNum2\"] = mdMsgData.loc[mdMsgData[\"agg\"]==1, \"cumorderNum\"]\n",
    "    mdMsgData[\"cumorderNum2\"] = mdMsgData.groupby(\"SecurityID\")[\"cumorderNum2\"].ffill()\n",
    "    mdMsgData.loc[mdMsgData[\"cumorderNum2\"] == mdMsgData[\"cumorderNum\"], \"cum_volume\"] = mdMsgData[mdMsgData[\"cumorderNum2\"] == mdMsgData[\"cumorderNum\"]]\\\n",
    "    .groupby([\"SecurityID\", \"cumorderNum\"])[\"cum_volume\"].transform(\"max\")\n",
    "    \n",
    "    mdMsgData = mdMsgData.sort_values(by=['sequenceNo']).reset_index(drop=True)\n",
    "\n",
    "    mdMsgData['cum_volume'] = mdMsgData.groupby(['SecurityID'])['cum_volume'].ffill()\n",
    "    mdMsgData['cum_volume'] = mdMsgData.groupby(['SecurityID'])['cum_volume'].backfill()\n",
    "    mdMsgData['ExecType'] = mdMsgData['ExecType'].fillna('2')\n",
    "    mdMsgData['TradeQty'] = mdMsgData['TradeQty'].fillna(0)\n",
    "    \n",
    "    saveCols = ['clockAtArrival', 'sequenceNo', 'TransactTime', 'SecurityID', 'cum_volume', 'ApplSeqNum', \n",
    "                'Side', 'OrderType', 'Price', 'OrderQty', 'ExecType', 'TradePrice', 'TradeQty', 'TradeMoney',\n",
    "                'BidApplSeqNum', 'OfferApplSeqNum', \"agg\"]\n",
    "    mdMsgData = mdMsgData[saveCols]\n",
    "    savePath = '/mnt/orderLog/mdData'\n",
    "    mdMsgData.to_pickle(os.path.join(savePath, 'mdLog_msg_%s.pkl'%date))\n",
    "    \n",
    "    \n",
    "print(datetime.datetime.now() - startTm)\n"
   ]
  },
  {
   "cell_type": "code",
   "execution_count": null,
   "metadata": {},
   "outputs": [],
   "source": []
  }
 ],
 "metadata": {
  "kernelspec": {
   "display_name": "Python 3",
   "language": "python",
   "name": "python3"
  },
  "language_info": {
   "codemirror_mode": {
    "name": "ipython",
    "version": 3
   },
   "file_extension": ".py",
   "mimetype": "text/x-python",
   "name": "python",
   "nbconvert_exporter": "python",
   "pygments_lexer": "ipython3",
   "version": "3.7.6"
  }
 },
 "nbformat": 4,
 "nbformat_minor": 4
}
