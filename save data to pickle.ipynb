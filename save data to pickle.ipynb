{
 "cells": [
  {
   "cell_type": "code",
   "execution_count": 2,
   "metadata": {},
   "outputs": [
    {
     "name": "stdout",
     "output_type": "stream",
     "text": [
      "0:00:38.756439\n"
     ]
    }
   ],
   "source": [
    "import pandas as pd\n",
    "import random\n",
    "import numpy as np\n",
    "import glob\n",
    "import os\n",
    "import pickle\n",
    "import datetime\n",
    "import time\n",
    "from decimal import Decimal, Context, ROUND_HALF_UP\n",
    "\n",
    "startTm = datetime.datetime.now()\n",
    "rar_path = '/mnt/usb/data/2017/201711/20171130/SZ/snapshot.7z'\n",
    "path = '/mnt/e/unzip_data/2017/SZ'\n",
    "path1 = path + '/' + '20171130'\n",
    "un_path = path1\n",
    "cmd = '7za x {} -o{}'.format(rar_path, un_path)\n",
    "os.system(cmd)\n",
    "print(datetime.datetime.now() - startTm)"
   ]
  },
  {
   "cell_type": "code",
   "execution_count": 4,
   "metadata": {},
   "outputs": [
    {
     "name": "stdout",
     "output_type": "stream",
     "text": [
      "0:00:23.236090\n"
     ]
    }
   ],
   "source": [
    "import pandas as pd\n",
    "import random\n",
    "import numpy as np\n",
    "import glob\n",
    "import os\n",
    "import pickle\n",
    "import datetime\n",
    "import time\n",
    "from decimal import Decimal, Context, ROUND_HALF_UP\n",
    "\n",
    "startTm = datetime.datetime.now()\n",
    "rar_path = '/mnt/usb/data/2018/201803/20180312/SZ/tick.7z'\n",
    "path = '/mnt/e/unzip_data/2018/SZ'\n",
    "path1 = path + '/' + '20180312'\n",
    "un_path = path1\n",
    "cmd = '7za x {} -o{}'.format(rar_path, un_path)\n",
    "os.system(cmd)\n",
    "print(datetime.datetime.now() - startTm)"
   ]
  },
  {
   "cell_type": "code",
   "execution_count": 5,
   "metadata": {},
   "outputs": [
    {
     "name": "stdout",
     "output_type": "stream",
     "text": [
      "0:00:50.686614\n"
     ]
    }
   ],
   "source": [
    "import pandas as pd\n",
    "import random\n",
    "import numpy as np\n",
    "import glob\n",
    "import os\n",
    "import pickle\n",
    "import datetime\n",
    "import time\n",
    "from decimal import Decimal, Context, ROUND_HALF_UP\n",
    "\n",
    "startTm = datetime.datetime.now()\n",
    "rar_path = '/mnt/usb/data/2018/201803/20180312/SZ/snapshot.7z'\n",
    "path = '/mnt/e/unzip_data/2018/SZ'\n",
    "path1 = path + '/' + '20180312'\n",
    "un_path = path1\n",
    "cmd = '7za x {} -o{}'.format(rar_path, un_path)\n",
    "os.system(cmd)\n",
    "print(datetime.datetime.now() - startTm)"
   ]
  },
  {
   "cell_type": "code",
   "execution_count": null,
   "metadata": {},
   "outputs": [],
   "source": []
  }
 ],
 "metadata": {
  "kernelspec": {
   "display_name": "Python 3",
   "language": "python",
   "name": "python3"
  },
  "language_info": {
   "codemirror_mode": {
    "name": "ipython",
    "version": 3
   },
   "file_extension": ".py",
   "mimetype": "text/x-python",
   "name": "python",
   "nbconvert_exporter": "python",
   "pygments_lexer": "ipython3",
   "version": "3.7.6"
  }
 },
 "nbformat": 4,
 "nbformat_minor": 4
}
