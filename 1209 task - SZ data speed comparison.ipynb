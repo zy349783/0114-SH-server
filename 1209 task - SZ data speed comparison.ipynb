{
 "cells": [
  {
   "cell_type": "code",
   "execution_count": 9,
   "metadata": {
    "scrolled": false
   },
   "outputs": [
    {
     "name": "stdout",
     "output_type": "stream",
     "text": [
      "original data source type: \n",
      "[24]\n",
      "data source 1 type: \n",
      "[24]\n",
      "data source 2 type: \n",
      "[24]\n",
      "data source 3 type: \n",
      "[25]\n",
      "data source 4 type: \n",
      "[24]\n"
     ]
    }
   ],
   "source": [
    "import pandas as pd\n",
    "import numpy as np\n",
    "import os\n",
    "import glob\n",
    "\n",
    "base = pd.read_csv(r'/mnt/data/20201210/logs_20201210_zs_96_03_day_96data/mdLog_SZ_20201210_0832.csv',\n",
    "                    encoding=\"utf-8\").loc[:, [\"clockAtArrival\", \"sequenceNo\", \"source\", \"StockID\",\n",
    "                                              \"exchange\", \"time\", \"cum_volume\", \"cum_amount\", \"close\",\n",
    "                                              \"bid1p\", \"bid2p\", \"bid3p\", \"bid4p\", \"bid5p\", \"bid1q\",\n",
    "                                              \"bid2q\", \"bid3q\", \"bid4q\", \"bid5q\", \"ask1p\", \"ask2p\",\n",
    "                                              \"ask3p\", \"ask4p\", \"ask5p\", \"ask1q\", \"ask2q\", \"ask3q\",\n",
    "                                              \"ask4q\", \"ask5q\", \"openPrice\", \"numTrades\"]]\n",
    "data1 = pd.read_csv(r'/mnt/data/20201210/zs_7201/zs_7201_postmdgw_20201210_10.0.101.56/Logs_full/mdLog_SZ_20201210_0854.csv',\n",
    "                    encoding=\"utf-8\").loc[:, [\"clockAtArrival\", \"sequenceNo\", \"source\", \"StockID\",\n",
    "                                              \"exchange\", \"time\", \"cum_volume\", \"cum_amount\", \"close\",\n",
    "                                              \"bid1p\", \"bid2p\", \"bid3p\", \"bid4p\", \"bid5p\", \"bid1q\",\n",
    "                                              \"bid2q\", \"bid3q\", \"bid4q\", \"bid5q\", \"ask1p\", \"ask2p\",\n",
    "                                              \"ask3p\", \"ask4p\", \"ask5p\", \"ask1q\", \"ask2q\", \"ask3q\",\n",
    "                                              \"ask4q\", \"ask5q\", \"openPrice\", \"numTrades\"]]\n",
    "data2 = pd.read_csv(r'/mnt/data/20201210/zs_7201/zs_7201_postmdgw_20201210_10.0.101.57/Logs_full/mdLog_SZ_20201210_0855.csv',\n",
    "                    encoding=\"utf-8\").loc[:, [\"clockAtArrival\", \"sequenceNo\", \"source\", \"StockID\",\n",
    "                                              \"exchange\", \"time\", \"cum_volume\", \"cum_amount\", \"close\",\n",
    "                                              \"bid1p\", \"bid2p\", \"bid3p\", \"bid4p\", \"bid5p\", \"bid1q\",\n",
    "                                              \"bid2q\", \"bid3q\", \"bid4q\", \"bid5q\", \"ask1p\", \"ask2p\",\n",
    "                                              \"ask3p\", \"ask4p\", \"ask5p\", \"ask1q\", \"ask2q\", \"ask3q\",\n",
    "                                              \"ask4q\", \"ask5q\", \"openPrice\", \"numTrades\"]]\n",
    "data3 = pd.read_csv(r'/mnt/data/20201210/zs_7201/zs_7201_20201210_10.0.101.57_ama/Logs_full/mdLog_SZ_20201210_0853.csv',\n",
    "                    encoding=\"utf-8\").loc[:, [\"clockAtArrival\", \"sequenceNo\", \"source\", \"StockID\",\n",
    "                                              \"exchange\", \"time\", \"cum_volume\", \"cum_amount\", \"close\",\n",
    "                                              \"bid1p\", \"bid2p\", \"bid3p\", \"bid4p\", \"bid5p\", \"bid1q\",\n",
    "                                              \"bid2q\", \"bid3q\", \"bid4q\", \"bid5q\", \"ask1p\", \"ask2p\",\n",
    "                                              \"ask3p\", \"ask4p\", \"ask5p\", \"ask1q\", \"ask2q\", \"ask3q\",\n",
    "                                              \"ask4q\", \"ask5q\", \"openPrice\", \"numTrades\"]]\n",
    "data4 = pd.read_csv(r'/mnt/data/20201210/zs_7201/zs_7201_20201210_10.0.97.146_postmdgw/Logs_full/mdLog_SZ_20201210_0854.csv',\n",
    "                    encoding=\"utf-8\").loc[:, [\"clockAtArrival\", \"sequenceNo\", \"source\", \"StockID\",\n",
    "                                              \"exchange\", \"time\", \"cum_volume\", \"cum_amount\", \"close\",\n",
    "                                              \"bid1p\", \"bid2p\", \"bid3p\", \"bid4p\", \"bid5p\", \"bid1q\",\n",
    "                                              \"bid2q\", \"bid3q\", \"bid4q\", \"bid5q\", \"ask1p\", \"ask2p\",\n",
    "                                              \"ask3p\", \"ask4p\", \"ask5p\", \"ask1q\", \"ask2q\", \"ask3q\",\n",
    "                                              \"ask4q\", \"ask5q\", \"openPrice\", \"numTrades\"]]\n",
    "\n",
    "\n",
    "print(\"original data source type: \")\n",
    "print(base[\"source\"].unique())\n",
    "print(\"data source 1 type: \")\n",
    "print(data1[\"source\"].unique())\n",
    "print(\"data source 2 type: \")\n",
    "print(data2[\"source\"].unique())\n",
    "print(\"data source 3 type: \")\n",
    "print(data3[\"source\"].unique())\n",
    "print(\"data source 4 type: \")\n",
    "print(data4[\"source\"].unique())"
   ]
  },
  {
   "cell_type": "code",
   "execution_count": 10,
   "metadata": {},
   "outputs": [],
   "source": [
    "pd.set_option('max_columns', 200)\n",
    "base[\"time\"] = base[\"time\"].apply(lambda x: int((x.replace(':', \"\")).replace(\".\", \"\")))\n",
    "data1[\"time\"] = data1[\"time\"].apply(lambda x: int((x.replace(':', \"\")).replace(\".\", \"\")))\n",
    "data2[\"time\"] = data2[\"time\"].apply(lambda x: int((x.replace(':', \"\")).replace(\".\", \"\")))\n",
    "data3[\"time\"] = data3[\"time\"].apply(lambda x: int((x.replace(':', \"\")).replace(\".\", \"\")))\n",
    "data4[\"time\"] = data4[\"time\"].apply(lambda x: int((x.replace(':', \"\")).replace(\".\", \"\")))"
   ]
  },
  {
   "cell_type": "code",
   "execution_count": 11,
   "metadata": {},
   "outputs": [
    {
     "name": "stdout",
     "output_type": "stream",
     "text": [
      "[2]\n",
      "[2]\n",
      "[2]\n",
      "[2]\n",
      "[2]\n"
     ]
    }
   ],
   "source": [
    "for d in [base, data1, data2, data3, data4]:\n",
    "    print(d['cum_amount'].astype(str).apply(lambda x: len(x.split('.'))).unique())"
   ]
  },
  {
   "cell_type": "code",
   "execution_count": 12,
   "metadata": {},
   "outputs": [],
   "source": [
    "base['tag'] = 'base'\n",
    "data1['tag'] = '56'\n",
    "data2['tag'] = '57'\n",
    "data3['tag'] = 'ama'\n",
    "data4['tag'] = 'postmdgw'"
   ]
  },
  {
   "cell_type": "code",
   "execution_count": 13,
   "metadata": {
    "scrolled": true
   },
   "outputs": [
    {
     "name": "stdout",
     "output_type": "stream",
     "text": [
      "2308\n",
      "2129\n",
      "6937992\n",
      "6937992\n",
      "6937992\n",
      "-----------------------------------------------\n",
      "2129\n",
      "2129\n",
      "6937992\n",
      "6937992\n",
      "6937992\n",
      "-----------------------------------------------\n",
      "2129\n",
      "2129\n",
      "6937992\n",
      "6937992\n",
      "6937992\n",
      "-----------------------------------------------\n",
      "2129\n",
      "2129\n",
      "6937992\n",
      "6937992\n",
      "6937992\n",
      "-----------------------------------------------\n"
     ]
    }
   ],
   "source": [
    "base = base[(base[\"cum_volume\"] > 0)]\n",
    "columns = [\"StockID\", \"cum_volume\", \"cum_amount\", \"close\", \"bid1p\", \"bid2p\", \"bid3p\", \"bid4p\", \"bid5p\", \"bid1q\", \"bid2q\",\n",
    "           \"bid3q\", \"bid4q\", \"bid5q\", \"ask1p\", \"ask2p\", \"ask3p\", \"ask4p\", \"ask5p\", \"ask1q\", \"ask2q\", \"ask3q\",\n",
    "           \"ask4q\", \"ask5q\", \"openPrice\", \"numTrades\"]\n",
    "data1_1 = base.drop_duplicates(subset=columns, keep=\"first\").reset_index()\n",
    "data1_1 = data1_1[columns+['clockAtArrival']]\n",
    "for d in [data1, data2, data3, data4]:\n",
    "    data2_1 = d[d['cum_volume'] > 0].drop_duplicates(subset=columns, keep=\"first\").reset_index()\n",
    "    data2_1 = data2_1[columns+['clockAtArrival', 'tag']]\n",
    "    n1 = len(data1_1[\"StockID\"].unique())\n",
    "    n2 = len(data2_1[\"StockID\"].unique())\n",
    "    print(n1)\n",
    "    print(n2)\n",
    "    if n1 != n2:\n",
    "        sl = list(set(data1_1[\"StockID\"].unique()) & (set(data2_1[\"StockID\"].unique())))\n",
    "        data1_1 = data1_1[data1_1[\"StockID\"].isin(sl)]\n",
    "        data2_1 = data2_1[data2_1[\"StockID\"].isin(sl)]\n",
    "    data1_1['cum_amount'] = data1_1['cum_amount'].round(2)\n",
    "    data2_1['cum_amount'] = data2_1['cum_amount'].round(2)\n",
    "    data1_1 = pd.merge(data1_1, data2_1[columns+['clockAtArrival']], left_on=columns, right_on=columns, how=\"left\")\n",
    "    if 'clockAtArrival_x' in data1_1.columns:\n",
    "        data1_1 = data1_1.rename(columns={'clockAtArrival_x':'base', 'clockAtArrival_y':data2_1['tag'].iloc[0]})\n",
    "    else:\n",
    "        data1_1 = data1_1.rename(columns={'clockAtArrival':data2_1['tag'].iloc[0]})\n",
    "    n1 = data1_1[\"base\"].count()\n",
    "    n2 = data1_1[data2_1['tag'].iloc[0]].count()\n",
    "    len1 = len(data1_1)\n",
    "    print(n1)\n",
    "    print(n2)\n",
    "    print(len1)\n",
    "    print(\"-----------------------------------------------\")\n",
    "    if n2 < len1:\n",
    "        display(\"test is not complete:\")\n",
    "        display(data1_1[data1_1[str(data2_1['tag'].iloc[0])].isnull()])\n",
    "        print(len(data1_1[data1_1[str(data2_1['tag'].iloc[0])].isnull()])/n1)\n",
    "    if (len1 == n2) & (n1 < len1):\n",
    "        display(\"baseline is not complete:\")\n",
    "        display(data1_1[np.isnan(test[\"base\"])])\n",
    "        display(n2-n1)"
   ]
  },
  {
   "cell_type": "code",
   "execution_count": 14,
   "metadata": {},
   "outputs": [],
   "source": [
    "re = data1_1[(~data1_1['56'].isnull()) & (~data1_1['57'].isnull()) & (~data1_1['ama'].isnull()) & (~data1_1['postmdgw'].isnull())]"
   ]
  },
  {
   "cell_type": "code",
   "execution_count": 17,
   "metadata": {},
   "outputs": [
    {
     "name": "stdout",
     "output_type": "stream",
     "text": [
      "152.0\n",
      "251.0\n",
      "342.0\n",
      "14.0\n",
      "56.0\n",
      "180.0\n",
      "0.9996444216136311\n",
      "0.00034606554749558663\n"
     ]
    }
   ],
   "source": [
    "# speed check\n",
    "diff = re[\"postmdgw\"] - re[\"57\"]\n",
    "print(np.quantile(abs(diff[diff < 0]), 0.25))\n",
    "print(np.median(abs(diff[diff < 0])))\n",
    "print(np.quantile(abs(diff[diff < 0]), 0.75))\n",
    "print(np.quantile(diff[diff > 0], 0.25))\n",
    "print(np.median(diff[diff > 0]))\n",
    "print(np.quantile(diff[diff > 0], 0.75))\n",
    "print(sum(diff < 0)/len(diff))\n",
    "print(sum(diff > 0)/len(diff))"
   ]
  },
  {
   "cell_type": "code",
   "execution_count": 1,
   "metadata": {},
   "outputs": [
    {
     "data": {
      "text/plain": [
       "2129"
      ]
     },
     "metadata": {},
     "output_type": "display_data"
    }
   ],
   "source": [
    "import pandas as pd\n",
    "import numpy as np\n",
    "import os\n",
    "import glob\n",
    "\n",
    "base = pd.read_csv(r'/mnt/data/20201210/logs_20201210_zs_96_03_day_96data/mdTradeLog_20201210_0832.csv',\n",
    "                    encoding=\"utf-8\").loc[:, [\"clockAtArrival\", \"sequenceNo\", \"exchId\", \"TransactTime\",\n",
    "                                                 \"ApplSeqNum\", \"SecurityID\", \"ExecType\", \"TradeBSFlag\",\n",
    "                                                 \"TradePrice\", \"TradeQty\", \"TradeMoney\", \"BidApplSeqNum\",\n",
    "                                                 \"OfferApplSeqNum\", \"mdSource\"]]\n",
    "data1 = pd.read_csv(r'/mnt/data/20201210/zs_7201/zs_7201_postmdgw_20201210_10.0.101.56/Logs_full/mdTradeLog_20201210_0854.csv',\n",
    "                    encoding=\"utf-8\").loc[:, [\"clockAtArrival\", \"sequenceNo\", \"exchId\", \"TransactTime\",\n",
    "                                                 \"ApplSeqNum\", \"SecurityID\", \"ExecType\", \"TradeBSFlag\",\n",
    "                                                 \"TradePrice\", \"TradeQty\", \"TradeMoney\", \"BidApplSeqNum\",\n",
    "                                                 \"OfferApplSeqNum\", \"mdSource\"]]\n",
    "data2 = pd.read_csv(r'/mnt/data/20201210/zs_7201/zs_7201_postmdgw_20201210_10.0.101.57/Logs_full/mdTradeLog_20201210_0855.csv',\n",
    "                    encoding=\"utf-8\").loc[:, [\"clockAtArrival\", \"sequenceNo\", \"exchId\", \"TransactTime\",\n",
    "                                                 \"ApplSeqNum\", \"SecurityID\", \"ExecType\", \"TradeBSFlag\",\n",
    "                                                 \"TradePrice\", \"TradeQty\", \"TradeMoney\", \"BidApplSeqNum\",\n",
    "                                                 \"OfferApplSeqNum\", \"mdSource\"]]\n",
    "data3 = pd.read_csv(r'/mnt/data/20201210/zs_7201/zs_7201_20201210_10.0.101.57_ama/Logs_full/mdTradeLog_20201210_0853.csv',\n",
    "                    encoding=\"utf-8\").loc[:, [\"clockAtArrival\", \"sequenceNo\", \"exchId\", \"TransactTime\",\n",
    "                                                 \"ApplSeqNum\", \"SecurityID\", \"ExecType\", \"TradeBSFlag\",\n",
    "                                                 \"TradePrice\", \"TradeQty\", \"TradeMoney\", \"BidApplSeqNum\",\n",
    "                                                 \"OfferApplSeqNum\", \"mdSource\"]]\n",
    "data4 = pd.read_csv(r'/mnt/data/20201210/zs_7201/zs_7201_20201210_10.0.97.146_postmdgw/Logs_full/mdTradeLog_20201210_0854.csv',\n",
    "                    encoding=\"utf-8\").loc[:, [\"clockAtArrival\", \"sequenceNo\", \"exchId\", \"TransactTime\",\n",
    "                                                 \"ApplSeqNum\", \"SecurityID\", \"ExecType\", \"TradeBSFlag\",\n",
    "                                                 \"TradePrice\", \"TradeQty\", \"TradeMoney\", \"BidApplSeqNum\",\n",
    "                                                 \"OfferApplSeqNum\", \"mdSource\"]]\n",
    "stocks = list((set(base[\"SecurityID\"].unique())) & (set(data1[\"SecurityID\"].unique())) & (set(data2['SecurityID'].unique())) \\\n",
    "                                            & (set(data3['SecurityID'].unique())) & (set(data4['SecurityID'].unique())))\n",
    "display(len(stocks))\n",
    "              \n",
    "base = base[base['SecurityID'].isin(stocks)]\n",
    "data1 = data1[data1['SecurityID'].isin(stocks)] \n",
    "data2 = data2[data2['SecurityID'].isin(stocks)]         \n",
    "data3 = data3[data3['SecurityID'].isin(stocks)]         \n",
    "data4 = data4[data4['SecurityID'].isin(stocks)]   \n",
    "              \n",
    "base['tag'] = 'base'\n",
    "data1['tag'] = '56'\n",
    "data2['tag'] = '57'\n",
    "data3['tag'] = 'ama'\n",
    "data4['tag'] = 'postmdgw'"
   ]
  },
  {
   "cell_type": "code",
   "execution_count": 2,
   "metadata": {
    "scrolled": false
   },
   "outputs": [
    {
     "name": "stdout",
     "output_type": "stream",
     "text": [
      "33854223\n",
      "33854223\n",
      "33854223\n",
      "-----------------------------------------------\n",
      "33854223\n",
      "33854223\n",
      "33854223\n",
      "-----------------------------------------------\n",
      "33854223\n",
      "33854223\n",
      "33854223\n",
      "-----------------------------------------------\n",
      "33854223\n",
      "33854223\n",
      "33854223\n",
      "-----------------------------------------------\n"
     ]
    }
   ],
   "source": [
    "base[\"ExecType\"] = base[\"ExecType\"].apply(lambda x: str(x))\n",
    "columns = [\"TransactTime\",\"ApplSeqNum\", \"SecurityID\", \"ExecType\", \"TradeBSFlag\",\"TradePrice\", \"TradeQty\", \"TradeMoney\", \"BidApplSeqNum\",\"OfferApplSeqNum\"]\n",
    "base = base[columns + ['clockAtArrival']]\n",
    "for d in [data1, data2, data3, data4]:\n",
    "    d[\"ExecType\"] = d[\"ExecType\"].apply(lambda x: str(x))\n",
    "    base = pd.merge(base, d[columns + ['clockAtArrival']], left_on=columns, right_on=columns, how=\"left\", validate='one_to_one')\n",
    "    if 'clockAtArrival_x' in base.columns:\n",
    "        base = base.rename(columns={'clockAtArrival_x':'base', 'clockAtArrival_y':d['tag'].iloc[0]})\n",
    "    else:\n",
    "        base = base.rename(columns={'clockAtArrival':d['tag'].iloc[0]})\n",
    "    n1 = base[\"base\"].count()\n",
    "    n2 = base[d['tag'].iloc[0]].count()\n",
    "    len1 = len(base)\n",
    "    print(n1)\n",
    "    print(n2)\n",
    "    print(len1)\n",
    "    print(\"-----------------------------------------------\")\n",
    "    if n2 < len1:\n",
    "        display(\"test is not complete:\")\n",
    "        display(base[base[str(d['tag'].iloc[0])].isnull()])\n",
    "        print(len(base[base[str(d['tag'].iloc[0])].isnull()]))\n",
    "        print(np.sort(base[base[str(d['tag'].iloc[0])].isnull()][\"TransactTime\"].unique()))\n",
    "        print(len(base[base[str(d['tag'].iloc[0])].isnull()][\"SecurityID\"].unique()))\n",
    "        print(base[base[str(d['tag'].iloc[0])].isnull()][\"SecurityID\"].unique())\n",
    "    if (len1 == n2) & (n1 < len1):\n",
    "        display(\"baseline is not complete:\")\n",
    "        display(base[np.isnan(base[\"base\"])])\n",
    "        print(np.sort(base[np.isnan(base[\"base\"])][\"TransactTime\"].unique()))\n",
    "        print(len(base[np.isnan(base[\"base\"])][\"SecurityID\"].unique()))\n",
    "        print(base[np.isnan(base[\"base\"])][\"SecurityID\"].unique())\n",
    "        display(n2-n1)"
   ]
  },
  {
   "cell_type": "code",
   "execution_count": 3,
   "metadata": {},
   "outputs": [],
   "source": [
    "re = base[(~base['56'].isnull()) & (~base['57'].isnull()) & (~base['ama'].isnull()) & (~base['postmdgw'].isnull())]"
   ]
  },
  {
   "cell_type": "code",
   "execution_count": 4,
   "metadata": {
    "scrolled": false
   },
   "outputs": [
    {
     "name": "stdout",
     "output_type": "stream",
     "text": [
      "82.0\n",
      "100.0\n",
      "122.0\n",
      "445.0\n",
      "1361.0\n",
      "2654.0\n",
      "0.9939431190017269\n",
      "0.006051386853569199\n",
      "5.494144703897059e-06\n"
     ]
    }
   ],
   "source": [
    "diff = re[\"postmdgw\"] - re[\"ama\"]\n",
    "print(np.quantile(abs(diff[diff < 0]), 0.25))\n",
    "print(np.median(abs(diff[diff < 0])))\n",
    "print(np.quantile(abs(diff[diff < 0]), 0.75))\n",
    "print(np.quantile(diff[diff > 0], 0.25))\n",
    "print(np.median(diff[diff > 0]))\n",
    "print(np.quantile(diff[diff > 0], 0.75))\n",
    "print(sum(diff < 0)/len(diff))\n",
    "print(sum(diff > 0)/len(diff))\n",
    "print(sum(diff == 0)/len(diff))"
   ]
  },
  {
   "cell_type": "code",
   "execution_count": 5,
   "metadata": {
    "scrolled": true
   },
   "outputs": [
    {
     "name": "stdout",
     "output_type": "stream",
     "text": [
      "38.0\n",
      "45.0\n",
      "60.0\n",
      "58.0\n",
      "135.0\n",
      "301.0\n",
      "0.9991263719152556\n",
      "0.0008672182492565256\n",
      "6.409835487879902e-06\n"
     ]
    }
   ],
   "source": [
    "diff = re[\"postmdgw\"] - re[\"56\"]\n",
    "print(np.quantile(abs(diff[diff < 0]), 0.25))\n",
    "print(np.median(abs(diff[diff < 0])))\n",
    "print(np.quantile(abs(diff[diff < 0]), 0.75))\n",
    "print(np.quantile(diff[diff > 0], 0.25))\n",
    "print(np.median(diff[diff > 0]))\n",
    "print(np.quantile(diff[diff > 0], 0.75))\n",
    "print(sum(diff < 0)/len(diff))\n",
    "print(sum(diff > 0)/len(diff))\n",
    "print(sum(diff == 0)/len(diff))"
   ]
  },
  {
   "cell_type": "code",
   "execution_count": 6,
   "metadata": {},
   "outputs": [
    {
     "name": "stdout",
     "output_type": "stream",
     "text": [
      "52.0\n",
      "60.0\n",
      "77.0\n",
      "82.0\n",
      "188.0\n",
      "476.0\n",
      "0.9990633960200475\n",
      "0.0009330593704661306\n",
      "3.5446094863851995e-06\n"
     ]
    }
   ],
   "source": [
    "diff = re[\"postmdgw\"] - re[\"57\"]\n",
    "print(np.quantile(abs(diff[diff < 0]), 0.25))\n",
    "print(np.median(abs(diff[diff < 0])))\n",
    "print(np.quantile(abs(diff[diff < 0]), 0.75))\n",
    "print(np.quantile(diff[diff > 0], 0.25))\n",
    "print(np.median(diff[diff > 0]))\n",
    "print(np.quantile(diff[diff > 0], 0.75))\n",
    "print(sum(diff < 0)/len(diff))\n",
    "print(sum(diff > 0)/len(diff))\n",
    "print(sum(diff == 0)/len(diff))"
   ]
  },
  {
   "cell_type": "code",
   "execution_count": 7,
   "metadata": {},
   "outputs": [
    {
     "name": "stderr",
     "output_type": "stream",
     "text": [
      "/home/work516/anaconda3/lib/python3.7/site-packages/IPython/core/interactiveshell.py:3063: DtypeWarning: Columns (12) have mixed types.Specify dtype option on import or set low_memory=False.\n",
      "  interactivity=interactivity, compiler=compiler, result=result)\n"
     ]
    },
    {
     "data": {
      "text/plain": [
       "2129"
      ]
     },
     "metadata": {},
     "output_type": "display_data"
    }
   ],
   "source": [
    "import pandas as pd\n",
    "import numpy as np\n",
    "import os\n",
    "import glob\n",
    "\n",
    "base = pd.read_csv(r'/mnt/data/20201210/logs_20201210_zs_96_03_day_96data/mdOrderLog_20201210_0832.csv',\n",
    "                    encoding=\"utf-8\").loc[:, [\"clockAtArrival\", \"sequenceNo\", \"exchId\", \"TransactTime\",\n",
    "                                                 \"ApplSeqNum\", \"SecurityID\", \"Side\", \"OrderType\", \"Price\",\n",
    "                                                 \"OrderQty\", \"mdSource\"]]\n",
    "data1 = pd.read_csv(r'/mnt/data/20201210/zs_7201/zs_7201_postmdgw_20201210_10.0.101.56/Logs_full/mdOrderLog_20201210_0854.csv',\n",
    "                    encoding=\"utf-8\").loc[:, [\"clockAtArrival\", \"sequenceNo\", \"exchId\", \"TransactTime\",\n",
    "                                                 \"ApplSeqNum\", \"SecurityID\", \"Side\", \"OrderType\", \"Price\",\n",
    "                                                 \"OrderQty\", \"mdSource\"]]\n",
    "data2 = pd.read_csv(r'/mnt/data/20201210/zs_7201/zs_7201_postmdgw_20201210_10.0.101.57/Logs_full/mdOrderLog_20201210_0855.csv',\n",
    "                    encoding=\"utf-8\").loc[:, [\"clockAtArrival\", \"sequenceNo\", \"exchId\", \"TransactTime\",\n",
    "                                                 \"ApplSeqNum\", \"SecurityID\", \"Side\", \"OrderType\", \"Price\",\n",
    "                                                 \"OrderQty\", \"mdSource\"]]\n",
    "data3 = pd.read_csv(r'/mnt/data/20201210/zs_7201/zs_7201_20201210_10.0.101.57_ama/Logs_full/mdOrderLog_20201210_0853.csv',\n",
    "                    encoding=\"utf-8\").loc[:, [\"clockAtArrival\", \"sequenceNo\", \"exchId\", \"TransactTime\",\n",
    "                                                 \"ApplSeqNum\", \"SecurityID\", \"Side\", \"OrderType\", \"Price\",\n",
    "                                                 \"OrderQty\", \"mdSource\"]]\n",
    "data4 = pd.read_csv(r'/mnt/data/20201210/zs_7201/zs_7201_20201210_10.0.97.146_postmdgw/Logs_full/mdOrderLog_20201210_0854.csv',\n",
    "                    encoding=\"utf-8\").loc[:, [\"clockAtArrival\", \"sequenceNo\", \"exchId\", \"TransactTime\",\n",
    "                                                 \"ApplSeqNum\", \"SecurityID\", \"Side\", \"OrderType\", \"Price\",\n",
    "                                                 \"OrderQty\", \"mdSource\"]]\n",
    "stocks = list((set(base[\"SecurityID\"].unique())) & (set(data1[\"SecurityID\"].unique())) & (set(data2['SecurityID'].unique())) \\\n",
    "                                            & (set(data3['SecurityID'].unique())) & (set(data4['SecurityID'].unique())))\n",
    "display(len(stocks))\n",
    "              \n",
    "base = base[base['SecurityID'].isin(stocks)]\n",
    "data1 = data1[data1['SecurityID'].isin(stocks)] \n",
    "data2 = data2[data2['SecurityID'].isin(stocks)]         \n",
    "data3 = data3[data3['SecurityID'].isin(stocks)]         \n",
    "data4 = data4[data4['SecurityID'].isin(stocks)]   \n",
    "              \n",
    "base[\"OrderType\"] = base[\"OrderType\"].apply(lambda x: str(x))\n",
    "data1[\"OrderType\"] = data1[\"OrderType\"].apply(lambda x: str(x))\n",
    "data2[\"OrderType\"] = data2[\"OrderType\"].apply(lambda x: str(x))\n",
    "data3[\"OrderType\"] = data3[\"OrderType\"].apply(lambda x: str(x))\n",
    "data4[\"OrderType\"] = data4[\"OrderType\"].apply(lambda x: str(x))\n",
    "              \n",
    "base['tag'] = 'base'\n",
    "data1['tag'] = '56'\n",
    "data2['tag'] = '57'\n",
    "data3['tag'] = 'ama'\n",
    "data4['tag'] = 'postmdgw'"
   ]
  },
  {
   "cell_type": "code",
   "execution_count": 8,
   "metadata": {
    "scrolled": true
   },
   "outputs": [
    {
     "name": "stdout",
     "output_type": "stream",
     "text": [
      "38246216\n",
      "38246216\n",
      "38246216\n",
      "-----------------------------------------------\n",
      "38246216\n",
      "38246216\n",
      "38246216\n",
      "-----------------------------------------------\n",
      "38246216\n",
      "38246216\n",
      "38246216\n",
      "-----------------------------------------------\n",
      "38246216\n",
      "38246216\n",
      "38246216\n",
      "-----------------------------------------------\n"
     ]
    }
   ],
   "source": [
    "columns = [\"TransactTime\", \"ApplSeqNum\",\"Side\",'OrderType', 'Price', 'OrderQty', \"SecurityID\"]\n",
    "base = base[columns + ['clockAtArrival']]\n",
    "for d in [data1, data2, data3, data4]:\n",
    "    base = pd.merge(base, d[columns + ['clockAtArrival']], left_on=columns, right_on=columns, how=\"left\", validate='one_to_one')\n",
    "    if 'clockAtArrival_x' in base.columns:\n",
    "        base = base.rename(columns={'clockAtArrival_x':'base', 'clockAtArrival_y':d['tag'].iloc[0]})\n",
    "    else:\n",
    "        base = base.rename(columns={'clockAtArrival':d['tag'].iloc[0]})\n",
    "    n1 = base[\"base\"].count()\n",
    "    n2 = base[d['tag'].iloc[0]].count()\n",
    "    len1 = len(base)\n",
    "    print(n1)\n",
    "    print(n2)\n",
    "    print(len1)\n",
    "    print(\"-----------------------------------------------\")\n",
    "    if n2 < len1:\n",
    "        display(\"test is not complete:\")\n",
    "        display(base[base[str(d['tag'].iloc[0])].isnull()])\n",
    "        print(len(base[base[str(d['tag'].iloc[0])].isnull()]))\n",
    "        print(np.sort(base[base[str(d['tag'].iloc[0])].isnull()][\"TransactTime\"].unique()))\n",
    "        print(len(base[base[str(d['tag'].iloc[0])].isnull()][\"SecurityID\"].unique()))\n",
    "        print(base[base[str(d['tag'].iloc[0])].isnull()][\"SecurityID\"].unique())\n",
    "    if (len1 == n2) & (n1 < len1):\n",
    "        display(\"test is complete, baseline is not complete:\")\n",
    "        display(base[np.isnan(base[\"base\"])])\n",
    "        print(np.sort(base[np.isnan(base[\"base\"])][\"TransactTime\"].unique()))\n",
    "        print(len(base[np.isnan(base[\"base\"])][\"SecurityID\"].unique()))\n",
    "        print(base[np.isnan(base[\"base\"])][\"SecurityID\"].unique())\n",
    "        display(n2-n1)"
   ]
  },
  {
   "cell_type": "code",
   "execution_count": 9,
   "metadata": {},
   "outputs": [],
   "source": [
    "re = base[(~base['56'].isnull()) & (~base['57'].isnull()) & (~base['ama'].isnull()) & (~base['postmdgw'].isnull())]"
   ]
  },
  {
   "cell_type": "code",
   "execution_count": 10,
   "metadata": {},
   "outputs": [
    {
     "name": "stdout",
     "output_type": "stream",
     "text": [
      "78.0\n",
      "95.0\n",
      "117.0\n",
      "703.0\n",
      "1729.0\n",
      "3219.0\n",
      "0.9921905738335003\n",
      "0.007804641379424307\n"
     ]
    }
   ],
   "source": [
    "diff = re[\"postmdgw\"] - re[\"ama\"]\n",
    "print(np.quantile(abs(diff[diff < 0]), 0.25))\n",
    "print(np.median(abs(diff[diff < 0])))\n",
    "print(np.quantile(abs(diff[diff < 0]), 0.75))\n",
    "print(np.quantile(diff[diff > 0], 0.25))\n",
    "print(np.median(diff[diff > 0]))\n",
    "print(np.quantile(diff[diff > 0], 0.75))\n",
    "print(sum(diff < 0)/len(diff))\n",
    "print(sum(diff > 0)/len(diff))"
   ]
  },
  {
   "cell_type": "code",
   "execution_count": 11,
   "metadata": {},
   "outputs": [
    {
     "name": "stdout",
     "output_type": "stream",
     "text": [
      "34.0\n",
      "41.0\n",
      "49.0\n",
      "70.0\n",
      "181.0\n",
      "485.0\n",
      "0.9994568090082429\n",
      "0.0005398442554421593\n"
     ]
    }
   ],
   "source": [
    "diff = re[\"postmdgw\"] - re[\"56\"]\n",
    "print(np.quantile(abs(diff[diff < 0]), 0.25))\n",
    "print(np.median(abs(diff[diff < 0])))\n",
    "print(np.quantile(abs(diff[diff < 0]), 0.75))\n",
    "print(np.quantile(diff[diff > 0], 0.25))\n",
    "print(np.median(diff[diff > 0]))\n",
    "print(np.quantile(diff[diff > 0], 0.75))\n",
    "print(sum(diff < 0)/len(diff))\n",
    "print(sum(diff > 0)/len(diff))"
   ]
  },
  {
   "cell_type": "code",
   "execution_count": 12,
   "metadata": {},
   "outputs": [
    {
     "name": "stdout",
     "output_type": "stream",
     "text": [
      "49.0\n",
      "55.0\n",
      "63.0\n",
      "74.0\n",
      "165.0\n",
      "427.0\n",
      "0.99953964073204\n",
      "0.00045860746067009607\n"
     ]
    }
   ],
   "source": [
    "diff = re[\"postmdgw\"] - re[\"57\"]\n",
    "print(np.quantile(abs(diff[diff < 0]), 0.25))\n",
    "print(np.median(abs(diff[diff < 0])))\n",
    "print(np.quantile(abs(diff[diff < 0]), 0.75))\n",
    "print(np.quantile(diff[diff > 0], 0.25))\n",
    "print(np.median(diff[diff > 0]))\n",
    "print(np.quantile(diff[diff > 0], 0.75))\n",
    "print(sum(diff < 0)/len(diff))\n",
    "print(sum(diff > 0)/len(diff))"
   ]
  }
 ],
 "metadata": {
  "kernelspec": {
   "display_name": "Python 3",
   "language": "python",
   "name": "python3"
  },
  "language_info": {
   "codemirror_mode": {
    "name": "ipython",
    "version": 3
   },
   "file_extension": ".py",
   "mimetype": "text/x-python",
   "name": "python",
   "nbconvert_exporter": "python",
   "pygments_lexer": "ipython3",
   "version": "3.7.6"
  }
 },
 "nbformat": 4,
 "nbformat_minor": 4
}
