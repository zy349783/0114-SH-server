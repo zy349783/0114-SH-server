{
 "cells": [
  {
   "cell_type": "code",
   "execution_count": null,
   "metadata": {},
   "outputs": [],
   "source": [
    "import pandas as pd\n",
    "import random\n",
    "import numpy as np\n",
    "import glob\n",
    "import pickle\n",
    "import os\n",
    "import datetime\n",
    "import time\n",
    "\n",
    "sl = pd.read_csv('/home/work516/KR_upload_code/stock_list.csv')\n",
    "li_st = (sl['secid'] - 2000000).values\n",
    "pd.set_option('max_rows', 200)\n",
    "startDate = '20200102'\n",
    "endDate = '20200106'\n",
    "readPath = '/mnt/e/result/logs_***_zs_***'\n",
    "dataPathLs = np.array(glob.glob(readPath))\n",
    "dateLs = np.array([os.path.basename(i).split('_')[1] for i in dataPathLs])\n",
    "dataPathLs = dataPathLs[(dateLs >= startDate) & (dateLs <= endDate)]\n",
    "for i in dataPathLs:\n",
    "    orderp = i + '/mdLog_SZ_***'\n",
    "    path1 = np.array(glob.glob(orderp))\n",
    "    order = pd.read_csv(path1[0])\n",
    "    order = order[order['SecurityID'].isin(li_st)]\n",
    "    try:\n",
    "        assert(order['SecurityID'].nunique() == 100)\n",
    "    except:\n",
    "        print(i)\n",
    "        print(set(li_st) - set(order['SecurityID'].unique()))\n",
    "    order = order[['clockAtArrival', 'sequenceNo', 'TransactTime', 'ApplSeqNum', 'SecurityID', 'Side', 'OrderType', 'Price', 'OrderQty']]\n",
    "    tradep = i + '/mdTradeLog***'\n",
    "    path1 = np.array(glob.glob(tradep))\n",
    "    trade = pd.read_csv(path1[0])\n",
    "    trade = trade[trade['SecurityID'].isin(li_st)]\n",
    "    try:\n",
    "        assert(trade['SecurityID'].nunique() == 100)\n",
    "    except:\n",
    "        print(i)\n",
    "        print(set(li_st) - set(trade['SecurityID'].unique()))\n",
    "    trade = trade[['clockAtArrival', 'sequenceNo', 'TransactTime', 'ApplSeqNum', 'SecurityID', 'ExecType', 'TradePrice', 'TradeQty', 'BidApplSeqNum', 'OfferApplSeqNum']]\n",
    "    os.mkdir('/mnt/e/92/' + os.path.basename(i).split('_')[1])\n",
    "    order = order.reset_index(drop=True)\n",
    "    trade = trade.reset_index(drop=True)\n",
    "    order = order.rename(columns={\"SecurityID\": 'skey'})\n",
    "    order['skey'] = order['skey'] + 2000000\n",
    "    trade = trade.rename(columns={\"SecurityID\": 'skey'})\n",
    "    trade['skey'] = trade['skey'] + 2000000\n",
    "    order.to_pickle('/mnt/e/92/' + os.path.basename(i).split('_')[1] + '/order.pkl')\n",
    "    trade.to_pickle('/mnt/e/92/' + os.path.basename(i).split('_')[1] + '/trade.pkl')"
   ]
  }
 ],
 "metadata": {
  "kernelspec": {
   "display_name": "Python 3",
   "language": "python",
   "name": "python3"
  },
  "language_info": {
   "codemirror_mode": {
    "name": "ipython",
    "version": 3
   },
   "file_extension": ".py",
   "mimetype": "text/x-python",
   "name": "python",
   "nbconvert_exporter": "python",
   "pygments_lexer": "ipython3",
   "version": "3.7.6"
  }
 },
 "nbformat": 4,
 "nbformat_minor": 4
}
