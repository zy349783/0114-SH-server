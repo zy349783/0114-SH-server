{
 "cells": [
  {
   "cell_type": "code",
   "execution_count": 3,
   "metadata": {},
   "outputs": [],
   "source": [
    "import tarfile\n",
    "import os\n",
    "import numpy as np\n",
    "import glob\n",
    "import shutil\n",
    "def un_gz(file_name, dirs):\n",
    "    t = tarfile.open(file_name)\n",
    "#     os.mkdir(dirs)\n",
    "    dirs = dirs + '/' + os.path.basename(file_name)\n",
    "    os.mkdir(dirs)\n",
    "    t.extractall(path=dirs)\n",
    "    da_te = os.path.basename(file_name).split('_')[1]\n",
    "    readPath = dirs + '/md***' + da_te + '***'\n",
    "    dataPathLs = np.array(glob.glob(readPath))\n",
    "    readPath = dirs + '/***'\n",
    "    dataPathLs1 = np.array(glob.glob(readPath))\n",
    "    for i in list(set(dataPathLs1) - set(dataPathLs)):\n",
    "        if os.path.exists(i):\n",
    "            if os.path.isfile(i):\n",
    "                os.remove(i)\n",
    "            if os.path.isdir(i):\n",
    "                shutil.rmtree(i) \n",
    "    print('finish ' + da_te)"
   ]
  },
  {
   "cell_type": "code",
   "execution_count": 4,
   "metadata": {},
   "outputs": [
    {
     "name": "stdout",
     "output_type": "stream",
     "text": [
      "finish 20200921\n",
      "finish 20200922\n",
      "finish 20200923\n",
      "finish 20200924\n",
      "finish 20200925\n"
     ]
    }
   ],
   "source": [
    "import tarfile\n",
    "import os\n",
    "import numpy as np\n",
    "import glob\n",
    "import shutil\n",
    "readPath = '/mnt/dailyRawData/***/***zs_96_03_day_96data.tar.gz'\n",
    "startDate = '20200921'\n",
    "endDate = '20200925'\n",
    "dataPathLs = np.array(glob.glob(readPath))\n",
    "dateLs = np.array([os.path.basename(i).split('_')[1] for i in dataPathLs])\n",
    "dataPathLs = dataPathLs[(dateLs >= startDate) & (dateLs <= endDate)]\n",
    "for path in np.sort(dataPathLs):\n",
    "    un_gz(path, '/mnt/e/new_record_data/' + os.path.basename(path).split('_')[1])"
   ]
  },
  {
   "cell_type": "code",
   "execution_count": 5,
   "metadata": {
    "scrolled": true
   },
   "outputs": [
    {
     "name": "stdout",
     "output_type": "stream",
     "text": [
      "['/mnt/dailyRawData/20201210/logs_20201210_zs_96_03_day_96data.tar.gz', '/mnt/dailyRawData/20201210/logs_20201210_zt_88_03_day_88data.tar.gz']\n"
     ]
    }
   ],
   "source": [
    "import tarfile\n",
    "import os\n",
    "import numpy as np\n",
    "import glob\n",
    "import shutil\n",
    "\n",
    "date = 20201210\n",
    "exchange = 'else'\n",
    "\n",
    "\n",
    "readPath1 = '/mnt/dailyRawData/' + str(date) + '/***zs_96_03_day_96data.tar.gz'\n",
    "readPath2 = '/mnt/dailyRawData/' + str(date) + '/***zt_88_03_day_88data.tar.gz'\n",
    "dataPathLs1 = np.array(glob.glob(readPath1))\n",
    "assert(len(dataPathLs1) == 1)\n",
    "dataPathLs2 = np.array(glob.glob(readPath2))\n",
    "assert(len(dataPathLs2) == 1)\n",
    "\n",
    "if exchange == 'SH':\n",
    "    dataPathLs = dataPathLs2\n",
    "elif exchange == 'SZ':\n",
    "    dataPathLs = dataPathLs1\n",
    "else:\n",
    "    dataPathLs = list(dataPathLs1) + list(dataPathLs2)\n",
    "print(dataPathLs)\n",
    "\n",
    "try:\n",
    "    os.mkdir('/mnt/data/' + str(date))\n",
    "except:\n",
    "    print('folder already created')\n",
    "    \n",
    "for path in np.sort(dataPathLs):\n",
    "    un_gz(path, '/mnt/data/' + str(date) + os.path.basename(path).split('_')[1])"
   ]
  }
 ],
 "metadata": {
  "kernelspec": {
   "display_name": "Python 3",
   "language": "python",
   "name": "python3"
  },
  "language_info": {
   "codemirror_mode": {
    "name": "ipython",
    "version": 3
   },
   "file_extension": ".py",
   "mimetype": "text/x-python",
   "name": "python",
   "nbconvert_exporter": "python",
   "pygments_lexer": "ipython3",
   "version": "3.7.6"
  }
 },
 "nbformat": 4,
 "nbformat_minor": 4
}
